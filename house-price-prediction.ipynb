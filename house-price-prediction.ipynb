{
 "cells": [
  {
   "cell_type": "code",
   "execution_count": 1,
   "id": "5f823e05",
   "metadata": {
    "_cell_guid": "b1076dfc-b9ad-4769-8c92-a6c4dae69d19",
    "_uuid": "8f2839f25d086af736a60e9eeb907d3b93b6e0e5",
    "execution": {
     "iopub.execute_input": "2021-09-20T10:37:50.635420Z",
     "iopub.status.busy": "2021-09-20T10:37:50.633382Z",
     "iopub.status.idle": "2021-09-20T10:37:52.071770Z",
     "shell.execute_reply": "2021-09-20T10:37:52.071061Z",
     "shell.execute_reply.started": "2021-09-20T09:53:11.053461Z"
    },
    "papermill": {
     "duration": 1.472881,
     "end_time": "2021-09-20T10:37:52.071954",
     "exception": false,
     "start_time": "2021-09-20T10:37:50.599073",
     "status": "completed"
    },
    "tags": []
   },
   "outputs": [],
   "source": [
    "import numpy as np # linear algebra\n",
    "import pandas as pd # data processing, CSV file I/O (e.g. pd.read_csv)\n",
    "import seaborn as sns\n",
    "import matplotlib.pyplot as plt\n",
    "import matplotlib as mpb\n",
    "import pandas as pd\n",
    "import numpy as np\n",
    "from scipy.stats import skew\n",
    "import category_encoders as ce\n",
    "from sklearn.preprocessing import OrdinalEncoder, OneHotEncoder, LabelEncoder, StandardScaler, FunctionTransformer\n",
    "from sklearn.impute import SimpleImputer\n",
    "from sklearn.compose import ColumnTransformer\n",
    "from sklearn.pipeline import Pipeline\n",
    "from sklearn.model_selection import train_test_split\n",
    "from sklearn.linear_model import LinearRegression\n",
    "from sklearn.model_selection import cross_val_score\n",
    "from sklearn.linear_model import Ridge\n",
    "from sklearn.linear_model import Lasso\n",
    "from sklearn.ensemble import RandomForestRegressor\n",
    "from sklearn.metrics import mean_squared_error\n",
    "%matplotlib inline\n",
    "sns.set_theme()"
   ]
  },
  {
   "cell_type": "code",
   "execution_count": 2,
   "id": "ff9aa99f",
   "metadata": {
    "execution": {
     "iopub.execute_input": "2021-09-20T10:37:52.133290Z",
     "iopub.status.busy": "2021-09-20T10:37:52.132582Z",
     "iopub.status.idle": "2021-09-20T10:37:52.209919Z",
     "shell.execute_reply": "2021-09-20T10:37:52.209284Z",
     "shell.execute_reply.started": "2021-09-20T09:53:11.070583Z"
    },
    "papermill": {
     "duration": 0.108149,
     "end_time": "2021-09-20T10:37:52.210075",
     "exception": false,
     "start_time": "2021-09-20T10:37:52.101926",
     "status": "completed"
    },
    "tags": []
   },
   "outputs": [],
   "source": [
    "# Loading datasets\n",
    "\n",
    "train_data = pd.read_csv(\"../input/house-prices-advanced-regression-techniques/train.csv\")\n",
    "test_data = pd.read_csv(\"../input/house-prices-advanced-regression-techniques/test.csv\")"
   ]
  },
  {
   "cell_type": "markdown",
   "id": "eb4496b6",
   "metadata": {
    "papermill": {
     "duration": 0.027413,
     "end_time": "2021-09-20T10:37:52.265497",
     "exception": false,
     "start_time": "2021-09-20T10:37:52.238084",
     "status": "completed"
    },
    "tags": []
   },
   "source": [
    "### Data Preprocessing"
   ]
  },
  {
   "cell_type": "code",
   "execution_count": 3,
   "id": "dce6a25b",
   "metadata": {
    "execution": {
     "iopub.execute_input": "2021-09-20T10:37:52.330953Z",
     "iopub.status.busy": "2021-09-20T10:37:52.330254Z",
     "iopub.status.idle": "2021-09-20T10:37:52.335288Z",
     "shell.execute_reply": "2021-09-20T10:37:52.334738Z",
     "shell.execute_reply.started": "2021-09-20T09:53:11.132493Z"
    },
    "papermill": {
     "duration": 0.040725,
     "end_time": "2021-09-20T10:37:52.335428",
     "exception": false,
     "start_time": "2021-09-20T10:37:52.294703",
     "status": "completed"
    },
    "tags": []
   },
   "outputs": [
    {
     "name": "stdout",
     "output_type": "stream",
     "text": [
      "(1460, 81)\n"
     ]
    },
    {
     "data": {
      "text/plain": [
       "(1459, 80)"
      ]
     },
     "execution_count": 3,
     "metadata": {},
     "output_type": "execute_result"
    }
   ],
   "source": [
    "# looking at dimensions of Data\n",
    "\n",
    "print(train_data.shape)\n",
    "test_data.shape"
   ]
  },
  {
   "cell_type": "code",
   "execution_count": 4,
   "id": "8b3f6387",
   "metadata": {
    "execution": {
     "iopub.execute_input": "2021-09-20T10:37:52.406374Z",
     "iopub.status.busy": "2021-09-20T10:37:52.405692Z",
     "iopub.status.idle": "2021-09-20T10:37:52.429753Z",
     "shell.execute_reply": "2021-09-20T10:37:52.429110Z",
     "shell.execute_reply.started": "2021-09-20T09:53:11.142259Z"
    },
    "papermill": {
     "duration": 0.064995,
     "end_time": "2021-09-20T10:37:52.429898",
     "exception": false,
     "start_time": "2021-09-20T10:37:52.364903",
     "status": "completed"
    },
    "tags": []
   },
   "outputs": [
    {
     "data": {
      "text/html": [
       "<div>\n",
       "<style scoped>\n",
       "    .dataframe tbody tr th:only-of-type {\n",
       "        vertical-align: middle;\n",
       "    }\n",
       "\n",
       "    .dataframe tbody tr th {\n",
       "        vertical-align: top;\n",
       "    }\n",
       "\n",
       "    .dataframe thead th {\n",
       "        text-align: right;\n",
       "    }\n",
       "</style>\n",
       "<table border=\"1\" class=\"dataframe\">\n",
       "  <thead>\n",
       "    <tr style=\"text-align: right;\">\n",
       "      <th></th>\n",
       "      <th>Id</th>\n",
       "      <th>MSSubClass</th>\n",
       "      <th>MSZoning</th>\n",
       "      <th>LotFrontage</th>\n",
       "      <th>LotArea</th>\n",
       "      <th>Street</th>\n",
       "      <th>Alley</th>\n",
       "      <th>LotShape</th>\n",
       "      <th>LandContour</th>\n",
       "      <th>Utilities</th>\n",
       "      <th>...</th>\n",
       "      <th>PoolArea</th>\n",
       "      <th>PoolQC</th>\n",
       "      <th>Fence</th>\n",
       "      <th>MiscFeature</th>\n",
       "      <th>MiscVal</th>\n",
       "      <th>MoSold</th>\n",
       "      <th>YrSold</th>\n",
       "      <th>SaleType</th>\n",
       "      <th>SaleCondition</th>\n",
       "      <th>SalePrice</th>\n",
       "    </tr>\n",
       "  </thead>\n",
       "  <tbody>\n",
       "    <tr>\n",
       "      <th>0</th>\n",
       "      <td>1</td>\n",
       "      <td>60</td>\n",
       "      <td>RL</td>\n",
       "      <td>65.0</td>\n",
       "      <td>8450</td>\n",
       "      <td>Pave</td>\n",
       "      <td>NaN</td>\n",
       "      <td>Reg</td>\n",
       "      <td>Lvl</td>\n",
       "      <td>AllPub</td>\n",
       "      <td>...</td>\n",
       "      <td>0</td>\n",
       "      <td>NaN</td>\n",
       "      <td>NaN</td>\n",
       "      <td>NaN</td>\n",
       "      <td>0</td>\n",
       "      <td>2</td>\n",
       "      <td>2008</td>\n",
       "      <td>WD</td>\n",
       "      <td>Normal</td>\n",
       "      <td>208500</td>\n",
       "    </tr>\n",
       "    <tr>\n",
       "      <th>1</th>\n",
       "      <td>2</td>\n",
       "      <td>20</td>\n",
       "      <td>RL</td>\n",
       "      <td>80.0</td>\n",
       "      <td>9600</td>\n",
       "      <td>Pave</td>\n",
       "      <td>NaN</td>\n",
       "      <td>Reg</td>\n",
       "      <td>Lvl</td>\n",
       "      <td>AllPub</td>\n",
       "      <td>...</td>\n",
       "      <td>0</td>\n",
       "      <td>NaN</td>\n",
       "      <td>NaN</td>\n",
       "      <td>NaN</td>\n",
       "      <td>0</td>\n",
       "      <td>5</td>\n",
       "      <td>2007</td>\n",
       "      <td>WD</td>\n",
       "      <td>Normal</td>\n",
       "      <td>181500</td>\n",
       "    </tr>\n",
       "    <tr>\n",
       "      <th>2</th>\n",
       "      <td>3</td>\n",
       "      <td>60</td>\n",
       "      <td>RL</td>\n",
       "      <td>68.0</td>\n",
       "      <td>11250</td>\n",
       "      <td>Pave</td>\n",
       "      <td>NaN</td>\n",
       "      <td>IR1</td>\n",
       "      <td>Lvl</td>\n",
       "      <td>AllPub</td>\n",
       "      <td>...</td>\n",
       "      <td>0</td>\n",
       "      <td>NaN</td>\n",
       "      <td>NaN</td>\n",
       "      <td>NaN</td>\n",
       "      <td>0</td>\n",
       "      <td>9</td>\n",
       "      <td>2008</td>\n",
       "      <td>WD</td>\n",
       "      <td>Normal</td>\n",
       "      <td>223500</td>\n",
       "    </tr>\n",
       "    <tr>\n",
       "      <th>3</th>\n",
       "      <td>4</td>\n",
       "      <td>70</td>\n",
       "      <td>RL</td>\n",
       "      <td>60.0</td>\n",
       "      <td>9550</td>\n",
       "      <td>Pave</td>\n",
       "      <td>NaN</td>\n",
       "      <td>IR1</td>\n",
       "      <td>Lvl</td>\n",
       "      <td>AllPub</td>\n",
       "      <td>...</td>\n",
       "      <td>0</td>\n",
       "      <td>NaN</td>\n",
       "      <td>NaN</td>\n",
       "      <td>NaN</td>\n",
       "      <td>0</td>\n",
       "      <td>2</td>\n",
       "      <td>2006</td>\n",
       "      <td>WD</td>\n",
       "      <td>Abnorml</td>\n",
       "      <td>140000</td>\n",
       "    </tr>\n",
       "    <tr>\n",
       "      <th>4</th>\n",
       "      <td>5</td>\n",
       "      <td>60</td>\n",
       "      <td>RL</td>\n",
       "      <td>84.0</td>\n",
       "      <td>14260</td>\n",
       "      <td>Pave</td>\n",
       "      <td>NaN</td>\n",
       "      <td>IR1</td>\n",
       "      <td>Lvl</td>\n",
       "      <td>AllPub</td>\n",
       "      <td>...</td>\n",
       "      <td>0</td>\n",
       "      <td>NaN</td>\n",
       "      <td>NaN</td>\n",
       "      <td>NaN</td>\n",
       "      <td>0</td>\n",
       "      <td>12</td>\n",
       "      <td>2008</td>\n",
       "      <td>WD</td>\n",
       "      <td>Normal</td>\n",
       "      <td>250000</td>\n",
       "    </tr>\n",
       "  </tbody>\n",
       "</table>\n",
       "<p>5 rows × 81 columns</p>\n",
       "</div>"
      ],
      "text/plain": [
       "   Id  MSSubClass MSZoning  LotFrontage  LotArea Street Alley LotShape  \\\n",
       "0   1          60       RL         65.0     8450   Pave   NaN      Reg   \n",
       "1   2          20       RL         80.0     9600   Pave   NaN      Reg   \n",
       "2   3          60       RL         68.0    11250   Pave   NaN      IR1   \n",
       "3   4          70       RL         60.0     9550   Pave   NaN      IR1   \n",
       "4   5          60       RL         84.0    14260   Pave   NaN      IR1   \n",
       "\n",
       "  LandContour Utilities  ... PoolArea PoolQC Fence MiscFeature MiscVal MoSold  \\\n",
       "0         Lvl    AllPub  ...        0    NaN   NaN         NaN       0      2   \n",
       "1         Lvl    AllPub  ...        0    NaN   NaN         NaN       0      5   \n",
       "2         Lvl    AllPub  ...        0    NaN   NaN         NaN       0      9   \n",
       "3         Lvl    AllPub  ...        0    NaN   NaN         NaN       0      2   \n",
       "4         Lvl    AllPub  ...        0    NaN   NaN         NaN       0     12   \n",
       "\n",
       "  YrSold  SaleType  SaleCondition  SalePrice  \n",
       "0   2008        WD         Normal     208500  \n",
       "1   2007        WD         Normal     181500  \n",
       "2   2008        WD         Normal     223500  \n",
       "3   2006        WD        Abnorml     140000  \n",
       "4   2008        WD         Normal     250000  \n",
       "\n",
       "[5 rows x 81 columns]"
      ]
     },
     "execution_count": 4,
     "metadata": {},
     "output_type": "execute_result"
    }
   ],
   "source": [
    "# Finding missing values.\n",
    "\n",
    "train_data.head()"
   ]
  },
  {
   "cell_type": "code",
   "execution_count": 5,
   "id": "acde0935",
   "metadata": {
    "execution": {
     "iopub.execute_input": "2021-09-20T10:37:52.500650Z",
     "iopub.status.busy": "2021-09-20T10:37:52.499790Z",
     "iopub.status.idle": "2021-09-20T10:37:52.507938Z",
     "shell.execute_reply": "2021-09-20T10:37:52.507303Z",
     "shell.execute_reply.started": "2021-09-20T09:53:11.175996Z"
    },
    "papermill": {
     "duration": 0.04886,
     "end_time": "2021-09-20T10:37:52.508076",
     "exception": false,
     "start_time": "2021-09-20T10:37:52.459216",
     "status": "completed"
    },
    "tags": []
   },
   "outputs": [
    {
     "data": {
      "text/plain": [
       "Id                 0\n",
       "MSSubClass         0\n",
       "MSZoning           0\n",
       "LotFrontage      259\n",
       "LotArea            0\n",
       "                ... \n",
       "MoSold             0\n",
       "YrSold             0\n",
       "SaleType           0\n",
       "SaleCondition      0\n",
       "SalePrice          0\n",
       "Length: 81, dtype: int64"
      ]
     },
     "execution_count": 5,
     "metadata": {},
     "output_type": "execute_result"
    }
   ],
   "source": [
    "train_data.isnull().sum()"
   ]
  },
  {
   "cell_type": "code",
   "execution_count": 6,
   "id": "32ca7c34",
   "metadata": {
    "execution": {
     "iopub.execute_input": "2021-09-20T10:37:52.588610Z",
     "iopub.status.busy": "2021-09-20T10:37:52.587903Z",
     "iopub.status.idle": "2021-09-20T10:37:53.889324Z",
     "shell.execute_reply": "2021-09-20T10:37:53.888815Z",
     "shell.execute_reply.started": "2021-09-20T09:53:11.202527Z"
    },
    "papermill": {
     "duration": 1.351713,
     "end_time": "2021-09-20T10:37:53.889470",
     "exception": false,
     "start_time": "2021-09-20T10:37:52.537757",
     "status": "completed"
    },
    "tags": []
   },
   "outputs": [
    {
     "data": {
      "text/plain": [
       "<AxesSubplot:>"
      ]
     },
     "execution_count": 6,
     "metadata": {},
     "output_type": "execute_result"
    },
    {
     "data": {
      "image/png": "[encoded data removed]",
      "text/plain": [
       "<Figure size 720x576 with 2 Axes>"
      ]
     },
     "metadata": {},
     "output_type": "display_data"
    }
   ],
   "source": [
    "fig, ax = plt.subplots(figsize=(10,8))\n",
    "sns.heatmap(train_data.isnull(), ax=ax)"
   ]
  },
  {
   "cell_type": "code",
   "execution_count": 7,
   "id": "0ac5cef5",
   "metadata": {
    "execution": {
     "iopub.execute_input": "2021-09-20T10:37:53.957230Z",
     "iopub.status.busy": "2021-09-20T10:37:53.956568Z",
     "iopub.status.idle": "2021-09-20T10:37:53.971451Z",
     "shell.execute_reply": "2021-09-20T10:37:53.972082Z",
     "shell.execute_reply.started": "2021-09-20T09:53:12.383848Z"
    },
    "papermill": {
     "duration": 0.050392,
     "end_time": "2021-09-20T10:37:53.972259",
     "exception": false,
     "start_time": "2021-09-20T10:37:53.921867",
     "status": "completed"
    },
    "tags": []
   },
   "outputs": [
    {
     "data": {
      "text/plain": [
       "Id                 0\n",
       "MSSubClass         0\n",
       "MSZoning           0\n",
       "LotFrontage      259\n",
       "LotArea            0\n",
       "                ... \n",
       "MoSold             0\n",
       "YrSold             0\n",
       "SaleType           0\n",
       "SaleCondition      0\n",
       "SalePrice          0\n",
       "Length: 81, dtype: int64"
      ]
     },
     "execution_count": 7,
     "metadata": {},
     "output_type": "execute_result"
    }
   ],
   "source": [
    "train_data.isnull().sum()"
   ]
  },
  {
   "cell_type": "code",
   "execution_count": 8,
   "id": "4b82d9db",
   "metadata": {
    "execution": {
     "iopub.execute_input": "2021-09-20T10:37:54.040650Z",
     "iopub.status.busy": "2021-09-20T10:37:54.039993Z",
     "iopub.status.idle": "2021-09-20T10:37:54.074890Z",
     "shell.execute_reply": "2021-09-20T10:37:54.075412Z",
     "shell.execute_reply.started": "2021-09-20T09:53:12.405782Z"
    },
    "papermill": {
     "duration": 0.07125,
     "end_time": "2021-09-20T10:37:54.075659",
     "exception": false,
     "start_time": "2021-09-20T10:37:54.004409",
     "status": "completed"
    },
    "tags": []
   },
   "outputs": [
    {
     "name": "stdout",
     "output_type": "stream",
     "text": [
      "<class 'pandas.core.frame.DataFrame'>\n",
      "RangeIndex: 1460 entries, 0 to 1459\n",
      "Data columns (total 81 columns):\n",
      " #   Column         Non-Null Count  Dtype  \n",
      "---  ------         --------------  -----  \n",
      " 0   Id             1460 non-null   int64  \n",
      " 1   MSSubClass     1460 non-null   int64  \n",
      " 2   MSZoning       1460 non-null   object \n",
      " 3   LotFrontage    1201 non-null   float64\n",
      " 4   LotArea        1460 non-null   int64  \n",
      " 5   Street         1460 non-null   object \n",
      " 6   Alley          91 non-null     object \n",
      " 7   LotShape       1460 non-null   object \n",
      " 8   LandContour    1460 non-null   object \n",
      " 9   Utilities      1460 non-null   object \n",
      " 10  LotConfig      1460 non-null   object \n",
      " 11  LandSlope      1460 non-null   object \n",
      " 12  Neighborhood   1460 non-null   object \n",
      " 13  Condition1     1460 non-null   object \n",
      " 14  Condition2     1460 non-null   object \n",
      " 15  BldgType       1460 non-null   object \n",
      " 16  HouseStyle     1460 non-null   object \n",
      " 17  OverallQual    1460 non-null   int64  \n",
      " 18  OverallCond    1460 non-null   int64  \n",
      " 19  YearBuilt      1460 non-null   int64  \n",
      " 20  YearRemodAdd   1460 non-null   int64  \n",
      " 21  RoofStyle      1460 non-null   object \n",
      " 22  RoofMatl       1460 non-null   object \n",
      " 23  Exterior1st    1460 non-null   object \n",
      " 24  Exterior2nd    1460 non-null   object \n",
      " 25  MasVnrType     1452 non-null   object \n",
      " 26  MasVnrArea     1452 non-null   float64\n",
      " 27  ExterQual      1460 non-null   object \n",
      " 28  ExterCond      1460 non-null   object \n",
      " 29  Foundation     1460 non-null   object \n",
      " 30  BsmtQual       1423 non-null   object \n",
      " 31  BsmtCond       1423 non-null   object \n",
      " 32  BsmtExposure   1422 non-null   object \n",
      " 33  BsmtFinType1   1423 non-null   object \n",
      " 34  BsmtFinSF1     1460 non-null   int64  \n",
      " 35  BsmtFinType2   1422 non-null   object \n",
      " 36  BsmtFinSF2     1460 non-null   int64  \n",
      " 37  BsmtUnfSF      1460 non-null   int64  \n",
      " 38  TotalBsmtSF    1460 non-null   int64  \n",
      " 39  Heating        1460 non-null   object \n",
      " 40  HeatingQC      1460 non-null   object \n",
      " 41  CentralAir     1460 non-null   object \n",
      " 42  Electrical     1459 non-null   object \n",
      " 43  1stFlrSF       1460 non-null   int64  \n",
      " 44  2ndFlrSF       1460 non-null   int64  \n",
      " 45  LowQualFinSF   1460 non-null   int64  \n",
      " 46  GrLivArea      1460 non-null   int64  \n",
      " 47  BsmtFullBath   1460 non-null   int64  \n",
      " 48  BsmtHalfBath   1460 non-null   int64  \n",
      " 49  FullBath       1460 non-null   int64  \n",
      " 50  HalfBath       1460 non-null   int64  \n",
      " 51  BedroomAbvGr   1460 non-null   int64  \n",
      " 52  KitchenAbvGr   1460 non-null   int64  \n",
      " 53  KitchenQual    1460 non-null   object \n",
      " 54  TotRmsAbvGrd   1460 non-null   int64  \n",
      " 55  Functional     1460 non-null   object \n",
      " 56  Fireplaces     1460 non-null   int64  \n",
      " 57  FireplaceQu    770 non-null    object \n",
      " 58  GarageType     1379 non-null   object \n",
      " 59  GarageYrBlt    1379 non-null   float64\n",
      " 60  GarageFinish   1379 non-null   object \n",
      " 61  GarageCars     1460 non-null   int64  \n",
      " 62  GarageArea     1460 non-null   int64  \n",
      " 63  GarageQual     1379 non-null   object \n",
      " 64  GarageCond     1379 non-null   object \n",
      " 65  PavedDrive     1460 non-null   object \n",
      " 66  WoodDeckSF     1460 non-null   int64  \n",
      " 67  OpenPorchSF    1460 non-null   int64  \n",
      " 68  EnclosedPorch  1460 non-null   int64  \n",
      " 69  3SsnPorch      1460 non-null   int64  \n",
      " 70  ScreenPorch    1460 non-null   int64  \n",
      " 71  PoolArea       1460 non-null   int64  \n",
      " 72  PoolQC         7 non-null      object \n",
      " 73  Fence          281 non-null    object \n",
      " 74  MiscFeature    54 non-null     object \n",
      " 75  MiscVal        1460 non-null   int64  \n",
      " 76  MoSold         1460 non-null   int64  \n",
      " 77  YrSold         1460 non-null   int64  \n",
      " 78  SaleType       1460 non-null   object \n",
      " 79  SaleCondition  1460 non-null   object \n",
      " 80  SalePrice      1460 non-null   int64  \n",
      "dtypes: float64(3), int64(35), object(43)\n",
      "memory usage: 924.0+ KB\n"
     ]
    }
   ],
   "source": [
    "train_data.info()"
   ]
  },
  {
   "cell_type": "code",
   "execution_count": 9,
   "id": "9aa5bb7e",
   "metadata": {
    "execution": {
     "iopub.execute_input": "2021-09-20T10:37:54.169140Z",
     "iopub.status.busy": "2021-09-20T10:37:54.166646Z",
     "iopub.status.idle": "2021-09-20T10:37:54.183313Z",
     "shell.execute_reply": "2021-09-20T10:37:54.183824Z",
     "shell.execute_reply.started": "2021-09-20T09:53:12.434800Z"
    },
    "papermill": {
     "duration": 0.074649,
     "end_time": "2021-09-20T10:37:54.183997",
     "exception": false,
     "start_time": "2021-09-20T10:37:54.109348",
     "status": "completed"
    },
    "tags": []
   },
   "outputs": [
    {
     "data": {
      "text/html": [
       "<div>\n",
       "<style scoped>\n",
       "    .dataframe tbody tr th:only-of-type {\n",
       "        vertical-align: middle;\n",
       "    }\n",
       "\n",
       "    .dataframe tbody tr th {\n",
       "        vertical-align: top;\n",
       "    }\n",
       "\n",
       "    .dataframe thead th {\n",
       "        text-align: right;\n",
       "    }\n",
       "</style>\n",
       "<table border=\"1\" class=\"dataframe\">\n",
       "  <thead>\n",
       "    <tr style=\"text-align: right;\">\n",
       "      <th></th>\n",
       "      <th>Id</th>\n",
       "      <th>MSSubClass</th>\n",
       "      <th>MSZoning</th>\n",
       "      <th>LotFrontage</th>\n",
       "      <th>LotArea</th>\n",
       "      <th>Street</th>\n",
       "      <th>Alley</th>\n",
       "      <th>LotShape</th>\n",
       "      <th>LandContour</th>\n",
       "      <th>Utilities</th>\n",
       "      <th>...</th>\n",
       "      <th>PoolArea</th>\n",
       "      <th>PoolQC</th>\n",
       "      <th>Fence</th>\n",
       "      <th>MiscFeature</th>\n",
       "      <th>MiscVal</th>\n",
       "      <th>MoSold</th>\n",
       "      <th>YrSold</th>\n",
       "      <th>SaleType</th>\n",
       "      <th>SaleCondition</th>\n",
       "      <th>SalePrice</th>\n",
       "    </tr>\n",
       "  </thead>\n",
       "  <tbody>\n",
       "    <tr>\n",
       "      <th>0</th>\n",
       "      <td>1</td>\n",
       "      <td>60</td>\n",
       "      <td>RL</td>\n",
       "      <td>65.0</td>\n",
       "      <td>8450</td>\n",
       "      <td>Pave</td>\n",
       "      <td>NaN</td>\n",
       "      <td>Reg</td>\n",
       "      <td>Lvl</td>\n",
       "      <td>AllPub</td>\n",
       "      <td>...</td>\n",
       "      <td>0</td>\n",
       "      <td>NaN</td>\n",
       "      <td>NaN</td>\n",
       "      <td>NaN</td>\n",
       "      <td>0</td>\n",
       "      <td>2</td>\n",
       "      <td>2008</td>\n",
       "      <td>WD</td>\n",
       "      <td>Normal</td>\n",
       "      <td>208500</td>\n",
       "    </tr>\n",
       "    <tr>\n",
       "      <th>1</th>\n",
       "      <td>2</td>\n",
       "      <td>20</td>\n",
       "      <td>RL</td>\n",
       "      <td>80.0</td>\n",
       "      <td>9600</td>\n",
       "      <td>Pave</td>\n",
       "      <td>NaN</td>\n",
       "      <td>Reg</td>\n",
       "      <td>Lvl</td>\n",
       "      <td>AllPub</td>\n",
       "      <td>...</td>\n",
       "      <td>0</td>\n",
       "      <td>NaN</td>\n",
       "      <td>NaN</td>\n",
       "      <td>NaN</td>\n",
       "      <td>0</td>\n",
       "      <td>5</td>\n",
       "      <td>2007</td>\n",
       "      <td>WD</td>\n",
       "      <td>Normal</td>\n",
       "      <td>181500</td>\n",
       "    </tr>\n",
       "    <tr>\n",
       "      <th>2</th>\n",
       "      <td>3</td>\n",
       "      <td>60</td>\n",
       "      <td>RL</td>\n",
       "      <td>68.0</td>\n",
       "      <td>11250</td>\n",
       "      <td>Pave</td>\n",
       "      <td>NaN</td>\n",
       "      <td>IR1</td>\n",
       "      <td>Lvl</td>\n",
       "      <td>AllPub</td>\n",
       "      <td>...</td>\n",
       "      <td>0</td>\n",
       "      <td>NaN</td>\n",
       "      <td>NaN</td>\n",
       "      <td>NaN</td>\n",
       "      <td>0</td>\n",
       "      <td>9</td>\n",
       "      <td>2008</td>\n",
       "      <td>WD</td>\n",
       "      <td>Normal</td>\n",
       "      <td>223500</td>\n",
       "    </tr>\n",
       "    <tr>\n",
       "      <th>3</th>\n",
       "      <td>4</td>\n",
       "      <td>70</td>\n",
       "      <td>RL</td>\n",
       "      <td>60.0</td>\n",
       "      <td>9550</td>\n",
       "      <td>Pave</td>\n",
       "      <td>NaN</td>\n",
       "      <td>IR1</td>\n",
       "      <td>Lvl</td>\n",
       "      <td>AllPub</td>\n",
       "      <td>...</td>\n",
       "      <td>0</td>\n",
       "      <td>NaN</td>\n",
       "      <td>NaN</td>\n",
       "      <td>NaN</td>\n",
       "      <td>0</td>\n",
       "      <td>2</td>\n",
       "      <td>2006</td>\n",
       "      <td>WD</td>\n",
       "      <td>Abnorml</td>\n",
       "      <td>140000</td>\n",
       "    </tr>\n",
       "    <tr>\n",
       "      <th>4</th>\n",
       "      <td>5</td>\n",
       "      <td>60</td>\n",
       "      <td>RL</td>\n",
       "      <td>84.0</td>\n",
       "      <td>14260</td>\n",
       "      <td>Pave</td>\n",
       "      <td>NaN</td>\n",
       "      <td>IR1</td>\n",
       "      <td>Lvl</td>\n",
       "      <td>AllPub</td>\n",
       "      <td>...</td>\n",
       "      <td>0</td>\n",
       "      <td>NaN</td>\n",
       "      <td>NaN</td>\n",
       "      <td>NaN</td>\n",
       "      <td>0</td>\n",
       "      <td>12</td>\n",
       "      <td>2008</td>\n",
       "      <td>WD</td>\n",
       "      <td>Normal</td>\n",
       "      <td>250000</td>\n",
       "    </tr>\n",
       "    <tr>\n",
       "      <th>...</th>\n",
       "      <td>...</td>\n",
       "      <td>...</td>\n",
       "      <td>...</td>\n",
       "      <td>...</td>\n",
       "      <td>...</td>\n",
       "      <td>...</td>\n",
       "      <td>...</td>\n",
       "      <td>...</td>\n",
       "      <td>...</td>\n",
       "      <td>...</td>\n",
       "      <td>...</td>\n",
       "      <td>...</td>\n",
       "      <td>...</td>\n",
       "      <td>...</td>\n",
       "      <td>...</td>\n",
       "      <td>...</td>\n",
       "      <td>...</td>\n",
       "      <td>...</td>\n",
       "      <td>...</td>\n",
       "      <td>...</td>\n",
       "      <td>...</td>\n",
       "    </tr>\n",
       "    <tr>\n",
       "      <th>1455</th>\n",
       "      <td>1456</td>\n",
       "      <td>60</td>\n",
       "      <td>RL</td>\n",
       "      <td>62.0</td>\n",
       "      <td>7917</td>\n",
       "      <td>Pave</td>\n",
       "      <td>NaN</td>\n",
       "      <td>Reg</td>\n",
       "      <td>Lvl</td>\n",
       "      <td>AllPub</td>\n",
       "      <td>...</td>\n",
       "      <td>0</td>\n",
       "      <td>NaN</td>\n",
       "      <td>NaN</td>\n",
       "      <td>NaN</td>\n",
       "      <td>0</td>\n",
       "      <td>8</td>\n",
       "      <td>2007</td>\n",
       "      <td>WD</td>\n",
       "      <td>Normal</td>\n",
       "      <td>175000</td>\n",
       "    </tr>\n",
       "    <tr>\n",
       "      <th>1456</th>\n",
       "      <td>1457</td>\n",
       "      <td>20</td>\n",
       "      <td>RL</td>\n",
       "      <td>85.0</td>\n",
       "      <td>13175</td>\n",
       "      <td>Pave</td>\n",
       "      <td>NaN</td>\n",
       "      <td>Reg</td>\n",
       "      <td>Lvl</td>\n",
       "      <td>AllPub</td>\n",
       "      <td>...</td>\n",
       "      <td>0</td>\n",
       "      <td>NaN</td>\n",
       "      <td>MnPrv</td>\n",
       "      <td>NaN</td>\n",
       "      <td>0</td>\n",
       "      <td>2</td>\n",
       "      <td>2010</td>\n",
       "      <td>WD</td>\n",
       "      <td>Normal</td>\n",
       "      <td>210000</td>\n",
       "    </tr>\n",
       "    <tr>\n",
       "      <th>1457</th>\n",
       "      <td>1458</td>\n",
       "      <td>70</td>\n",
       "      <td>RL</td>\n",
       "      <td>66.0</td>\n",
       "      <td>9042</td>\n",
       "      <td>Pave</td>\n",
       "      <td>NaN</td>\n",
       "      <td>Reg</td>\n",
       "      <td>Lvl</td>\n",
       "      <td>AllPub</td>\n",
       "      <td>...</td>\n",
       "      <td>0</td>\n",
       "      <td>NaN</td>\n",
       "      <td>GdPrv</td>\n",
       "      <td>Shed</td>\n",
       "      <td>2500</td>\n",
       "      <td>5</td>\n",
       "      <td>2010</td>\n",
       "      <td>WD</td>\n",
       "      <td>Normal</td>\n",
       "      <td>266500</td>\n",
       "    </tr>\n",
       "    <tr>\n",
       "      <th>1458</th>\n",
       "      <td>1459</td>\n",
       "      <td>20</td>\n",
       "      <td>RL</td>\n",
       "      <td>68.0</td>\n",
       "      <td>9717</td>\n",
       "      <td>Pave</td>\n",
       "      <td>NaN</td>\n",
       "      <td>Reg</td>\n",
       "      <td>Lvl</td>\n",
       "      <td>AllPub</td>\n",
       "      <td>...</td>\n",
       "      <td>0</td>\n",
       "      <td>NaN</td>\n",
       "      <td>NaN</td>\n",
       "      <td>NaN</td>\n",
       "      <td>0</td>\n",
       "      <td>4</td>\n",
       "      <td>2010</td>\n",
       "      <td>WD</td>\n",
       "      <td>Normal</td>\n",
       "      <td>142125</td>\n",
       "    </tr>\n",
       "    <tr>\n",
       "      <th>1459</th>\n",
       "      <td>1460</td>\n",
       "      <td>20</td>\n",
       "      <td>RL</td>\n",
       "      <td>75.0</td>\n",
       "      <td>9937</td>\n",
       "      <td>Pave</td>\n",
       "      <td>NaN</td>\n",
       "      <td>Reg</td>\n",
       "      <td>Lvl</td>\n",
       "      <td>AllPub</td>\n",
       "      <td>...</td>\n",
       "      <td>0</td>\n",
       "      <td>NaN</td>\n",
       "      <td>NaN</td>\n",
       "      <td>NaN</td>\n",
       "      <td>0</td>\n",
       "      <td>6</td>\n",
       "      <td>2008</td>\n",
       "      <td>WD</td>\n",
       "      <td>Normal</td>\n",
       "      <td>147500</td>\n",
       "    </tr>\n",
       "  </tbody>\n",
       "</table>\n",
       "<p>1460 rows × 81 columns</p>\n",
       "</div>"
      ],
      "text/plain": [
       "        Id  MSSubClass MSZoning  LotFrontage  LotArea Street Alley LotShape  \\\n",
       "0        1          60       RL         65.0     8450   Pave   NaN      Reg   \n",
       "1        2          20       RL         80.0     9600   Pave   NaN      Reg   \n",
       "2        3          60       RL         68.0    11250   Pave   NaN      IR1   \n",
       "3        4          70       RL         60.0     9550   Pave   NaN      IR1   \n",
       "4        5          60       RL         84.0    14260   Pave   NaN      IR1   \n",
       "...    ...         ...      ...          ...      ...    ...   ...      ...   \n",
       "1455  1456          60       RL         62.0     7917   Pave   NaN      Reg   \n",
       "1456  1457          20       RL         85.0    13175   Pave   NaN      Reg   \n",
       "1457  1458          70       RL         66.0     9042   Pave   NaN      Reg   \n",
       "1458  1459          20       RL         68.0     9717   Pave   NaN      Reg   \n",
       "1459  1460          20       RL         75.0     9937   Pave   NaN      Reg   \n",
       "\n",
       "     LandContour Utilities  ... PoolArea PoolQC  Fence MiscFeature MiscVal  \\\n",
       "0            Lvl    AllPub  ...        0    NaN    NaN         NaN       0   \n",
       "1            Lvl    AllPub  ...        0    NaN    NaN         NaN       0   \n",
       "2            Lvl    AllPub  ...        0    NaN    NaN         NaN       0   \n",
       "3            Lvl    AllPub  ...        0    NaN    NaN         NaN       0   \n",
       "4            Lvl    AllPub  ...        0    NaN    NaN         NaN       0   \n",
       "...          ...       ...  ...      ...    ...    ...         ...     ...   \n",
       "1455         Lvl    AllPub  ...        0    NaN    NaN         NaN       0   \n",
       "1456         Lvl    AllPub  ...        0    NaN  MnPrv         NaN       0   \n",
       "1457         Lvl    AllPub  ...        0    NaN  GdPrv        Shed    2500   \n",
       "1458         Lvl    AllPub  ...        0    NaN    NaN         NaN       0   \n",
       "1459         Lvl    AllPub  ...        0    NaN    NaN         NaN       0   \n",
       "\n",
       "     MoSold YrSold  SaleType  SaleCondition  SalePrice  \n",
       "0         2   2008        WD         Normal     208500  \n",
       "1         5   2007        WD         Normal     181500  \n",
       "2         9   2008        WD         Normal     223500  \n",
       "3         2   2006        WD        Abnorml     140000  \n",
       "4        12   2008        WD         Normal     250000  \n",
       "...     ...    ...       ...            ...        ...  \n",
       "1455      8   2007        WD         Normal     175000  \n",
       "1456      2   2010        WD         Normal     210000  \n",
       "1457      5   2010        WD         Normal     266500  \n",
       "1458      4   2010        WD         Normal     142125  \n",
       "1459      6   2008        WD         Normal     147500  \n",
       "\n",
       "[1460 rows x 81 columns]"
      ]
     },
     "execution_count": 9,
     "metadata": {},
     "output_type": "execute_result"
    }
   ],
   "source": [
    "# look at train data\n",
    "train_data"
   ]
  },
  {
   "cell_type": "code",
   "execution_count": 10,
   "id": "d547c0dd",
   "metadata": {
    "execution": {
     "iopub.execute_input": "2021-09-20T10:37:54.255213Z",
     "iopub.status.busy": "2021-09-20T10:37:54.254201Z",
     "iopub.status.idle": "2021-09-20T10:37:54.717658Z",
     "shell.execute_reply": "2021-09-20T10:37:54.718157Z",
     "shell.execute_reply.started": "2021-09-20T09:53:12.471028Z"
    },
    "papermill": {
     "duration": 0.500837,
     "end_time": "2021-09-20T10:37:54.718328",
     "exception": false,
     "start_time": "2021-09-20T10:37:54.217491",
     "status": "completed"
    },
    "tags": []
   },
   "outputs": [
    {
     "data": {
      "text/plain": [
       "<AxesSubplot:>"
      ]
     },
     "execution_count": 10,
     "metadata": {},
     "output_type": "execute_result"
    },
    {
     "data": {
      "image/png": "[encoded data removed]",
      "text/plain": [
       "<Figure size 576x432 with 1 Axes>"
      ]
     },
     "metadata": {},
     "output_type": "display_data"
    }
   ],
   "source": [
    "fig, ax = plt.subplots(figsize=(8,6))\n",
    "missing = train_data.isnull().sum()\n",
    "missing = missing[missing > 0]\n",
    "missing.sort_values(inplace=True)\n",
    "missing.plot.bar(ax=ax)"
   ]
  },
  {
   "cell_type": "markdown",
   "id": "be88fc89",
   "metadata": {
    "papermill": {
     "duration": 0.035187,
     "end_time": "2021-09-20T10:37:54.788405",
     "exception": false,
     "start_time": "2021-09-20T10:37:54.753218",
     "status": "completed"
    },
    "tags": []
   },
   "source": [
    "## Handle missing values"
   ]
  },
  {
   "cell_type": "code",
   "execution_count": 11,
   "id": "9186230d",
   "metadata": {
    "execution": {
     "iopub.execute_input": "2021-09-20T10:37:54.862703Z",
     "iopub.status.busy": "2021-09-20T10:37:54.862005Z",
     "iopub.status.idle": "2021-09-20T10:37:54.888848Z",
     "shell.execute_reply": "2021-09-20T10:37:54.889338Z",
     "shell.execute_reply.started": "2021-09-20T09:53:12.911845Z"
    },
    "papermill": {
     "duration": 0.065933,
     "end_time": "2021-09-20T10:37:54.889560",
     "exception": false,
     "start_time": "2021-09-20T10:37:54.823627",
     "status": "completed"
    },
    "tags": []
   },
   "outputs": [],
   "source": [
    "## Handling missing values on train data\n",
    "\n",
    "train_data['LotFrontage']= train_data['LotFrontage'].fillna(train_data['LotFrontage'].mean())\n",
    "\n",
    "train_data['BsmtCond']= train_data['BsmtCond'].fillna(train_data['BsmtCond'].mode()[0])\n",
    "\n",
    "train_data['BsmtQual']= train_data['BsmtQual'].fillna(train_data['BsmtQual'].mode()[0])\n",
    "\n",
    "train_data['FireplaceQu']= train_data['FireplaceQu'].fillna(train_data['FireplaceQu'].mode()[0])\n",
    "\n",
    "train_data['GarageType']= train_data['GarageType'].fillna(train_data['GarageType'].mode()[0])\n",
    "\n",
    "train_data['GarageFinish']=train_data['GarageFinish'].fillna(train_data['GarageFinish'].mode()[0])\n",
    "\n",
    "train_data['GarageQual']=train_data['GarageQual'].fillna(train_data['GarageQual'].mode()[0])\n",
    "\n",
    "train_data['GarageCond']=train_data['GarageCond'].fillna(train_data['GarageCond'].mode()[0])\n",
    "\n",
    "train_data['MasVnrType']=train_data['MasVnrType'].fillna(train_data['MasVnrType'].mode()[0])\n",
    "\n",
    "train_data['MasVnrArea']=train_data['MasVnrArea'].fillna(train_data['MasVnrArea'].mean())\n",
    "\n",
    "train_data['BsmtFinType1']=train_data['BsmtFinType1'].fillna(train_data['BsmtFinType1'].mode()[0])\n",
    "\n",
    "train_data['BsmtFinType2']=train_data['BsmtFinType2'].fillna(train_data['BsmtFinType2'].mode()[0])\n",
    "\n",
    "train_data['BsmtExposure']=train_data['BsmtExposure'].fillna(train_data['BsmtExposure'].mode()[0])\n",
    "\n",
    "train_data['GarageYrBlt']=train_data['GarageYrBlt'].fillna(train_data['GarageYrBlt'].mean())\n",
    "\n",
    "#BsmtExposure   \n"
   ]
  },
  {
   "cell_type": "code",
   "execution_count": 12,
   "id": "2889930a",
   "metadata": {
    "execution": {
     "iopub.execute_input": "2021-09-20T10:37:54.964206Z",
     "iopub.status.busy": "2021-09-20T10:37:54.963436Z",
     "iopub.status.idle": "2021-09-20T10:37:54.990857Z",
     "shell.execute_reply": "2021-09-20T10:37:54.990148Z",
     "shell.execute_reply.started": "2021-09-20T09:53:12.944039Z"
    },
    "papermill": {
     "duration": 0.066542,
     "end_time": "2021-09-20T10:37:54.991030",
     "exception": false,
     "start_time": "2021-09-20T10:37:54.924488",
     "status": "completed"
    },
    "tags": []
   },
   "outputs": [],
   "source": [
    "## Handling missing values on test data\n",
    "\n",
    "test_data['LotFrontage']= test_data['LotFrontage'].fillna(test_data['LotFrontage'].mean())\n",
    "\n",
    "test_data['BsmtCond']= test_data['BsmtCond'].fillna(test_data['BsmtCond'].mode()[0])\n",
    "\n",
    "test_data['BsmtQual']= test_data['BsmtQual'].fillna(test_data['BsmtQual'].mode()[0])\n",
    "\n",
    "test_data['FireplaceQu']= test_data['FireplaceQu'].fillna(test_data['FireplaceQu'].mode()[0])\n",
    "\n",
    "test_data['GarageType']= test_data['GarageType'].fillna(test_data['GarageType'].mode()[0])\n",
    "\n",
    "test_data['GarageFinish']= test_data['GarageFinish'].fillna(test_data['GarageFinish'].mode()[0])\n",
    "\n",
    "test_data['GarageQual']= test_data['GarageQual'].fillna(test_data['GarageQual'].mode()[0])\n",
    "\n",
    "test_data['GarageCond']= test_data['GarageCond'].fillna(test_data['GarageCond'].mode()[0])\n",
    "\n",
    "test_data['MasVnrType']= test_data['MasVnrType'].fillna(test_data['MasVnrType'].mode()[0])\n",
    "\n",
    "test_data['MasVnrArea']= test_data['MasVnrArea'].fillna(test_data['MasVnrArea'].mean())\n",
    "\n",
    "test_data['BsmtFinType2']= test_data['BsmtFinType2'].fillna(test_data['BsmtFinType2'].mode()[0])\n",
    "\n",
    "test_data['BsmtFinType1']= test_data['BsmtFinType1'].fillna(test_data['BsmtFinType1'].mode()[0])\n",
    "\n",
    "test_data['BsmtExposure']= test_data['BsmtExposure'].fillna(test_data['BsmtExposure'].mode()[0])\n",
    "\n",
    "test_data['GarageYrBlt']= test_data['GarageYrBlt'].fillna(test_data['GarageYrBlt'].mean())\n"
   ]
  },
  {
   "cell_type": "code",
   "execution_count": 13,
   "id": "d10a7fa4",
   "metadata": {
    "execution": {
     "iopub.execute_input": "2021-09-20T10:37:55.065204Z",
     "iopub.status.busy": "2021-09-20T10:37:55.064515Z",
     "iopub.status.idle": "2021-09-20T10:37:55.072020Z",
     "shell.execute_reply": "2021-09-20T10:37:55.072479Z",
     "shell.execute_reply.started": "2021-09-20T09:53:12.973366Z"
    },
    "papermill": {
     "duration": 0.04639,
     "end_time": "2021-09-20T10:37:55.072686",
     "exception": false,
     "start_time": "2021-09-20T10:37:55.026296",
     "status": "completed"
    },
    "tags": []
   },
   "outputs": [],
   "source": [
    "train_data.drop([ 'Alley',  'PoolQC', 'Fence', 'MiscFeature'], inplace=True, axis=1)\n",
    "test_data.drop([ 'Alley',  'PoolQC', 'Fence', 'MiscFeature'], inplace=True, axis=1)"
   ]
  },
  {
   "cell_type": "code",
   "execution_count": 14,
   "id": "836cae54",
   "metadata": {
    "execution": {
     "iopub.execute_input": "2021-09-20T10:37:55.146376Z",
     "iopub.status.busy": "2021-09-20T10:37:55.145738Z",
     "iopub.status.idle": "2021-09-20T10:37:55.366194Z",
     "shell.execute_reply": "2021-09-20T10:37:55.365640Z",
     "shell.execute_reply.started": "2021-09-20T09:53:12.991363Z"
    },
    "papermill": {
     "duration": 0.258902,
     "end_time": "2021-09-20T10:37:55.366330",
     "exception": false,
     "start_time": "2021-09-20T10:37:55.107428",
     "status": "completed"
    },
    "tags": []
   },
   "outputs": [
    {
     "data": {
      "text/plain": [
       "<AxesSubplot:>"
      ]
     },
     "execution_count": 14,
     "metadata": {},
     "output_type": "execute_result"
    },
    {
     "data": {
      "image/png": "[encoded data removed]",
      "text/plain": [
       "<Figure size 576x432 with 1 Axes>"
      ]
     },
     "metadata": {},
     "output_type": "display_data"
    }
   ],
   "source": [
    "train_data.isnull().sum()\n",
    "\n",
    "# Again have a look at missing values \n",
    "\n",
    "fig, ax = plt.subplots(figsize=(8,6))\n",
    "missing = train_data.isnull().sum()\n",
    "missing = missing[missing > 0]\n",
    "missing.sort_values(inplace=True)\n",
    "missing.plot.bar(ax=ax)"
   ]
  },
  {
   "cell_type": "markdown",
   "id": "ec2b5a6d",
   "metadata": {
    "papermill": {
     "duration": 0.035875,
     "end_time": "2021-09-20T10:37:55.438200",
     "exception": false,
     "start_time": "2021-09-20T10:37:55.402325",
     "status": "completed"
    },
    "tags": []
   },
   "source": [
    "#### Only one missing value left so leave it. We will deal with it further"
   ]
  },
  {
   "cell_type": "code",
   "execution_count": 15,
   "id": "f4ceb377",
   "metadata": {
    "execution": {
     "iopub.execute_input": "2021-09-20T10:37:55.515307Z",
     "iopub.status.busy": "2021-09-20T10:37:55.514567Z",
     "iopub.status.idle": "2021-09-20T10:37:56.883048Z",
     "shell.execute_reply": "2021-09-20T10:37:56.883515Z",
     "shell.execute_reply.started": "2021-09-20T09:53:13.210350Z"
    },
    "papermill": {
     "duration": 1.408907,
     "end_time": "2021-09-20T10:37:56.883711",
     "exception": false,
     "start_time": "2021-09-20T10:37:55.474804",
     "status": "completed"
    },
    "tags": []
   },
   "outputs": [
    {
     "data": {
      "text/plain": [
       "<AxesSubplot:>"
      ]
     },
     "execution_count": 15,
     "metadata": {},
     "output_type": "execute_result"
    },
    {
     "data": {
      "image/png": "[encoded data removed]",
      "text/plain": [
       "<Figure size 720x576 with 2 Axes>"
      ]
     },
     "metadata": {},
     "output_type": "display_data"
    }
   ],
   "source": [
    "fig, ax = plt.subplots(figsize=(10,8))\n",
    "sns.heatmap(train_data.isnull(), ax=ax)"
   ]
  },
  {
   "cell_type": "markdown",
   "id": "6e2b0e33",
   "metadata": {
    "papermill": {
     "duration": 0.038386,
     "end_time": "2021-09-20T10:37:56.960905",
     "exception": false,
     "start_time": "2021-09-20T10:37:56.922519",
     "status": "completed"
    },
    "tags": []
   },
   "source": [
    "## Corelation Matrix "
   ]
  },
  {
   "cell_type": "code",
   "execution_count": 16,
   "id": "b844c422",
   "metadata": {
    "execution": {
     "iopub.execute_input": "2021-09-20T10:37:57.045988Z",
     "iopub.status.busy": "2021-09-20T10:37:57.041448Z",
     "iopub.status.idle": "2021-09-20T10:37:58.439779Z",
     "shell.execute_reply": "2021-09-20T10:37:58.439245Z",
     "shell.execute_reply.started": "2021-09-20T09:53:14.567166Z"
    },
    "papermill": {
     "duration": 1.440024,
     "end_time": "2021-09-20T10:37:58.439931",
     "exception": false,
     "start_time": "2021-09-20T10:37:56.999907",
     "status": "completed"
    },
    "tags": []
   },
   "outputs": [
    {
     "data": {
      "text/plain": [
       "<AxesSubplot:>"
      ]
     },
     "execution_count": 16,
     "metadata": {},
     "output_type": "execute_result"
    },
    {
     "data": {
      "image/png": "[encoded data removed]",
      "text/plain": [
       "<Figure size 1296x864 with 2 Axes>"
      ]
     },
     "metadata": {},
     "output_type": "display_data"
    }
   ],
   "source": [
    "# relationship between features\n",
    "corr = train_data.corr()\n",
    "fig, ax = plt.subplots(figsize=(18,12))\n",
    "sns.heatmap(corr)"
   ]
  },
  {
   "cell_type": "markdown",
   "id": "9d85968a",
   "metadata": {
    "papermill": {
     "duration": 0.041363,
     "end_time": "2021-09-20T10:37:58.523133",
     "exception": false,
     "start_time": "2021-09-20T10:37:58.481770",
     "status": "completed"
    },
    "tags": []
   },
   "source": [
    "## Target Feature seprateing "
   ]
  },
  {
   "cell_type": "code",
   "execution_count": 17,
   "id": "ef977b76",
   "metadata": {
    "execution": {
     "iopub.execute_input": "2021-09-20T10:37:58.614318Z",
     "iopub.status.busy": "2021-09-20T10:37:58.613653Z",
     "iopub.status.idle": "2021-09-20T10:37:58.622070Z",
     "shell.execute_reply": "2021-09-20T10:37:58.621455Z",
     "shell.execute_reply.started": "2021-09-20T09:53:16.159464Z"
    },
    "papermill": {
     "duration": 0.057334,
     "end_time": "2021-09-20T10:37:58.622225",
     "exception": false,
     "start_time": "2021-09-20T10:37:58.564891",
     "status": "completed"
    },
    "tags": []
   },
   "outputs": [],
   "source": [
    "target = ['SalePrice']\n",
    "cat_features = train_data.drop(columns=['Id', 'SalePrice']).select_dtypes(include='object').columns.tolist()\n",
    "num_features = train_data.drop(columns=['Id', 'SalePrice']).select_dtypes(include=np.number).columns.tolist()\n",
    "all_features = cat_features + num_features\n"
   ]
  },
  {
   "cell_type": "markdown",
   "id": "42773dc8",
   "metadata": {
    "papermill": {
     "duration": 0.0415,
     "end_time": "2021-09-20T10:37:58.705713",
     "exception": false,
     "start_time": "2021-09-20T10:37:58.664213",
     "status": "completed"
    },
    "tags": []
   },
   "source": [
    "## Log use to transform the data\n"
   ]
  },
  {
   "cell_type": "code",
   "execution_count": 18,
   "id": "a6055e6e",
   "metadata": {
    "execution": {
     "iopub.execute_input": "2021-09-20T10:37:58.822022Z",
     "iopub.status.busy": "2021-09-20T10:37:58.792679Z",
     "iopub.status.idle": "2021-09-20T10:37:59.359647Z",
     "shell.execute_reply": "2021-09-20T10:37:59.359022Z",
     "shell.execute_reply.started": "2021-09-20T09:53:16.173336Z"
    },
    "papermill": {
     "duration": 0.611842,
     "end_time": "2021-09-20T10:37:59.359794",
     "exception": false,
     "start_time": "2021-09-20T10:37:58.747952",
     "status": "completed"
    },
    "tags": []
   },
   "outputs": [
    {
     "data": {
      "text/plain": [
       "array([[<AxesSubplot:title={'center':'price'}>,\n",
       "        <AxesSubplot:title={'center':'log(price + 1)'}>]], dtype=object)"
      ]
     },
     "execution_count": 18,
     "metadata": {},
     "output_type": "execute_result"
    },
    {
     "data": {
      "image/png": "[encoded data removed]",
      "text/plain": [
       "<Figure size 1080x432 with 2 Axes>"
      ]
     },
     "metadata": {},
     "output_type": "display_data"
    }
   ],
   "source": [
    "mpb.rcParams['figure.figsize'] = (15.0, 6.0)\n",
    "prices = pd.DataFrame({\"price\":train_data[\"SalePrice\"], \"log(price + 1)\":np.log1p(train_data['SalePrice'])})\n",
    "prices.hist()"
   ]
  },
  {
   "cell_type": "code",
   "execution_count": 19,
   "id": "38ac8ac2",
   "metadata": {
    "execution": {
     "iopub.execute_input": "2021-09-20T10:37:59.453328Z",
     "iopub.status.busy": "2021-09-20T10:37:59.452670Z",
     "iopub.status.idle": "2021-09-20T10:37:59.455575Z",
     "shell.execute_reply": "2021-09-20T10:37:59.455071Z",
     "shell.execute_reply.started": "2021-09-20T09:53:16.748753Z"
    },
    "papermill": {
     "duration": 0.05222,
     "end_time": "2021-09-20T10:37:59.455720",
     "exception": false,
     "start_time": "2021-09-20T10:37:59.403500",
     "status": "completed"
    },
    "tags": []
   },
   "outputs": [],
   "source": [
    "train_data.SalePrice = np.log(train_data.SalePrice)"
   ]
  },
  {
   "cell_type": "markdown",
   "id": "c3f68685",
   "metadata": {
    "papermill": {
     "duration": 0.043743,
     "end_time": "2021-09-20T10:37:59.542953",
     "exception": false,
     "start_time": "2021-09-20T10:37:59.499210",
     "status": "completed"
    },
    "tags": []
   },
   "source": [
    "## label Encoding "
   ]
  },
  {
   "cell_type": "code",
   "execution_count": 20,
   "id": "de0a3bc7",
   "metadata": {
    "execution": {
     "iopub.execute_input": "2021-09-20T10:37:59.642815Z",
     "iopub.status.busy": "2021-09-20T10:37:59.641716Z",
     "iopub.status.idle": "2021-09-20T10:37:59.645619Z",
     "shell.execute_reply": "2021-09-20T10:37:59.644677Z",
     "shell.execute_reply.started": "2021-09-20T09:53:16.756375Z"
    },
    "papermill": {
     "duration": 0.059208,
     "end_time": "2021-09-20T10:37:59.645816",
     "exception": false,
     "start_time": "2021-09-20T10:37:59.586608",
     "status": "completed"
    },
    "tags": []
   },
   "outputs": [],
   "source": [
    "# Pipeline for categorical features\n",
    "cat_tfms = Pipeline(steps=[\n",
    "    ('cat_ordenc', ce.OrdinalEncoder(return_df=True, handle_unknown='value', handle_missing='value'))\n",
    "])\n",
    "\n",
    "# Pipeline for numerical features\n",
    "num_tfms = Pipeline(steps=[\n",
    "    ('num_imputer',  SimpleImputer(missing_values=np.nan, strategy='median'))\n",
    "])\n",
    "\n",
    "features = ColumnTransformer(transformers=[\n",
    "    ('cat_tfms', cat_tfms, cat_features),\n",
    "    ('num_tfms', num_tfms, num_features)\n",
    "], remainder='passthrough')"
   ]
  },
  {
   "cell_type": "code",
   "execution_count": 21,
   "id": "0ca24755",
   "metadata": {
    "execution": {
     "iopub.execute_input": "2021-09-20T10:37:59.746096Z",
     "iopub.status.busy": "2021-09-20T10:37:59.742239Z",
     "iopub.status.idle": "2021-09-20T10:38:00.187799Z",
     "shell.execute_reply": "2021-09-20T10:38:00.186681Z",
     "shell.execute_reply.started": "2021-09-20T09:53:16.770326Z"
    },
    "papermill": {
     "duration": 0.49734,
     "end_time": "2021-09-20T10:38:00.187961",
     "exception": false,
     "start_time": "2021-09-20T10:37:59.690621",
     "status": "completed"
    },
    "tags": []
   },
   "outputs": [],
   "source": [
    "X = train_data[all_features]\n",
    "y = train_data.SalePrice\n",
    "X_train, X_test, y_train, y_test = train_test_split(X, y, shuffle=True,random_state=42)\n",
    "X_train_tf = pd.DataFrame(features.fit_transform(X_train), columns=all_features)\n",
    "X_test_tf = pd.DataFrame(features.fit_transform(X_test), columns=all_features)\n",
    "test_tf = test_data[all_features]\n",
    "test_tf = pd.DataFrame(features.transform(test_tf), columns=all_features)\n",
    "enc_map = dict()\n",
    "for feat in cat_features: enc_map[feat] = dict(zip(X_train[feat], X_train_tf[feat]))"
   ]
  },
  {
   "cell_type": "code",
   "execution_count": 22,
   "id": "4283f9d5",
   "metadata": {
    "execution": {
     "iopub.execute_input": "2021-09-20T10:38:00.280750Z",
     "iopub.status.busy": "2021-09-20T10:38:00.279870Z",
     "iopub.status.idle": "2021-09-20T10:38:00.283149Z",
     "shell.execute_reply": "2021-09-20T10:38:00.283675Z",
     "shell.execute_reply.started": "2021-09-20T09:53:17.227506Z"
    },
    "papermill": {
     "duration": 0.052466,
     "end_time": "2021-09-20T10:38:00.283852",
     "exception": false,
     "start_time": "2021-09-20T10:38:00.231386",
     "status": "completed"
    },
    "tags": []
   },
   "outputs": [
    {
     "name": "stdout",
     "output_type": "stream",
     "text": [
      "X_train shape:  (1095, 75)\n",
      "test shape: (1459, 75)\n"
     ]
    }
   ],
   "source": [
    "print(\"X_train shape: \", X_train_tf.shape)\n",
    "print(\"test shape:\", test_tf.shape)"
   ]
  },
  {
   "cell_type": "markdown",
   "id": "78bda8da",
   "metadata": {
    "papermill": {
     "duration": 0.043297,
     "end_time": "2021-09-20T10:38:00.370962",
     "exception": false,
     "start_time": "2021-09-20T10:38:00.327665",
     "status": "completed"
    },
    "tags": []
   },
   "source": [
    "## using Random forest model"
   ]
  },
  {
   "cell_type": "code",
   "execution_count": 23,
   "id": "17f4606b",
   "metadata": {
    "execution": {
     "iopub.execute_input": "2021-09-20T10:38:00.464163Z",
     "iopub.status.busy": "2021-09-20T10:38:00.463381Z",
     "iopub.status.idle": "2021-09-20T10:38:00.466420Z",
     "shell.execute_reply": "2021-09-20T10:38:00.465906Z",
     "shell.execute_reply.started": "2021-09-20T09:53:17.235627Z"
    },
    "papermill": {
     "duration": 0.051725,
     "end_time": "2021-09-20T10:38:00.466609",
     "exception": false,
     "start_time": "2021-09-20T10:38:00.414884",
     "status": "completed"
    },
    "tags": []
   },
   "outputs": [],
   "source": [
    "rf = RandomForestRegressor(\n",
    "    n_estimators=50, max_depth=None, min_samples_leaf=1, min_samples_split=2,\n",
    "    max_features=.7, max_samples=None, n_jobs=-1, random_state=42)"
   ]
  },
  {
   "cell_type": "code",
   "execution_count": 24,
   "id": "6ae9c0ec",
   "metadata": {
    "execution": {
     "iopub.execute_input": "2021-09-20T10:38:00.562226Z",
     "iopub.status.busy": "2021-09-20T10:38:00.561239Z",
     "iopub.status.idle": "2021-09-20T10:38:01.004719Z",
     "shell.execute_reply": "2021-09-20T10:38:01.004186Z",
     "shell.execute_reply.started": "2021-09-20T09:53:17.248058Z"
    },
    "papermill": {
     "duration": 0.49438,
     "end_time": "2021-09-20T10:38:01.004865",
     "exception": false,
     "start_time": "2021-09-20T10:38:00.510485",
     "status": "completed"
    },
    "tags": []
   },
   "outputs": [
    {
     "data": {
      "text/plain": [
       "RandomForestRegressor(max_features=0.7, n_estimators=50, n_jobs=-1,\n",
       "                      random_state=42)"
      ]
     },
     "execution_count": 24,
     "metadata": {},
     "output_type": "execute_result"
    }
   ],
   "source": [
    "rf.fit(X_train_tf, y_train)"
   ]
  },
  {
   "cell_type": "code",
   "execution_count": 25,
   "id": "a26efd50",
   "metadata": {
    "execution": {
     "iopub.execute_input": "2021-09-20T10:38:01.097715Z",
     "iopub.status.busy": "2021-09-20T10:38:01.096684Z",
     "iopub.status.idle": "2021-09-20T10:38:01.206011Z",
     "shell.execute_reply": "2021-09-20T10:38:01.205371Z",
     "shell.execute_reply.started": "2021-09-20T09:53:17.597945Z"
    },
    "papermill": {
     "duration": 0.157122,
     "end_time": "2021-09-20T10:38:01.206168",
     "exception": false,
     "start_time": "2021-09-20T10:38:01.049046",
     "status": "completed"
    },
    "tags": []
   },
   "outputs": [],
   "source": [
    "y_preds = rf.predict(X_test_tf)"
   ]
  },
  {
   "cell_type": "markdown",
   "id": "9e0aec05",
   "metadata": {
    "papermill": {
     "duration": 0.043699,
     "end_time": "2021-09-20T10:38:01.293812",
     "exception": false,
     "start_time": "2021-09-20T10:38:01.250113",
     "status": "completed"
    },
    "tags": []
   },
   "source": [
    "## Root mean Squared Error"
   ]
  },
  {
   "cell_type": "code",
   "execution_count": 26,
   "id": "7f0e037f",
   "metadata": {
    "execution": {
     "iopub.execute_input": "2021-09-20T10:38:01.388841Z",
     "iopub.status.busy": "2021-09-20T10:38:01.388028Z",
     "iopub.status.idle": "2021-09-20T10:38:01.391246Z",
     "shell.execute_reply": "2021-09-20T10:38:01.391740Z",
     "shell.execute_reply.started": "2021-09-20T09:53:17.711534Z"
    },
    "papermill": {
     "duration": 0.054177,
     "end_time": "2021-09-20T10:38:01.391909",
     "exception": false,
     "start_time": "2021-09-20T10:38:01.337732",
     "status": "completed"
    },
    "tags": []
   },
   "outputs": [
    {
     "data": {
      "text/plain": [
       "0.15333665873060015"
      ]
     },
     "execution_count": 26,
     "metadata": {},
     "output_type": "execute_result"
    }
   ],
   "source": [
    "rmse = mean_squared_error(y_test, y_preds, squared=False)\n",
    "rmse"
   ]
  },
  {
   "cell_type": "code",
   "execution_count": 27,
   "id": "168e89d9",
   "metadata": {
    "execution": {
     "iopub.execute_input": "2021-09-20T10:38:01.487401Z",
     "iopub.status.busy": "2021-09-20T10:38:01.486751Z",
     "iopub.status.idle": "2021-09-20T10:38:01.592434Z",
     "shell.execute_reply": "2021-09-20T10:38:01.591840Z",
     "shell.execute_reply.started": "2021-09-20T09:53:17.720316Z"
    },
    "papermill": {
     "duration": 0.15648,
     "end_time": "2021-09-20T10:38:01.592604",
     "exception": false,
     "start_time": "2021-09-20T10:38:01.436124",
     "status": "completed"
    },
    "tags": []
   },
   "outputs": [],
   "source": [
    "preds = rf.predict(test_tf)"
   ]
  },
  {
   "cell_type": "code",
   "execution_count": 28,
   "id": "c580f566",
   "metadata": {
    "execution": {
     "iopub.execute_input": "2021-09-20T10:38:01.690135Z",
     "iopub.status.busy": "2021-09-20T10:38:01.689114Z",
     "iopub.status.idle": "2021-09-20T10:38:01.702729Z",
     "shell.execute_reply": "2021-09-20T10:38:01.702121Z",
     "shell.execute_reply.started": "2021-09-20T09:53:17.845151Z"
    },
    "papermill": {
     "duration": 0.06436,
     "end_time": "2021-09-20T10:38:01.702883",
     "exception": false,
     "start_time": "2021-09-20T10:38:01.638523",
     "status": "completed"
    },
    "tags": []
   },
   "outputs": [
    {
     "name": "stdout",
     "output_type": "stream",
     "text": [
      "Your submission was successfully saved.\n"
     ]
    }
   ],
   "source": [
    "output = pd.DataFrame({'Id': test_data.Id, 'SalePrice': preds})\n",
    "output.to_csv('my_submission.csv', index=False)\n",
    "\n",
    "print(\"Your submission was successfully saved.\")\n"
   ]
  },
  {
   "cell_type": "code",
   "execution_count": 29,
   "id": "0447503b",
   "metadata": {
    "execution": {
     "iopub.execute_input": "2021-09-20T10:38:01.800154Z",
     "iopub.status.busy": "2021-09-20T10:38:01.799365Z",
     "iopub.status.idle": "2021-09-20T10:38:01.803278Z",
     "shell.execute_reply": "2021-09-20T10:38:01.802749Z",
     "shell.execute_reply.started": "2021-09-20T09:53:17.859923Z"
    },
    "papermill": {
     "duration": 0.055911,
     "end_time": "2021-09-20T10:38:01.803413",
     "exception": false,
     "start_time": "2021-09-20T10:38:01.747502",
     "status": "completed"
    },
    "tags": []
   },
   "outputs": [
    {
     "name": "stdout",
     "output_type": "stream",
     "text": [
      "     Id  SalePrice\n",
      "0  1461  11.764510\n",
      "1  1462  11.978674\n",
      "2  1463  12.082087\n",
      "3  1464  12.108670\n",
      "4  1465  12.210217\n"
     ]
    }
   ],
   "source": [
    "print(output.head())"
   ]
  }
 ],
 "metadata": {
  "kernelspec": {
   "display_name": "Python 3",
   "language": "python",
   "name": "python3"
  },
  "language_info": {
   "codemirror_mode": {
    "name": "ipython",
    "version": 3
   },
   "file_extension": ".py",
   "mimetype": "text/x-python",
   "name": "python",
   "nbconvert_exporter": "python",
   "pygments_lexer": "ipython3",
   "version": "3.7.10"
  },
  "papermill": {
   "default_parameters": {},
   "duration": 20.789512,
   "end_time": "2021-09-20T10:38:03.149983",
   "environment_variables": {},
   "exception": null,
   "input_path": "__notebook__.ipynb",
   "output_path": "__notebook__.ipynb",
   "parameters": {},
   "start_time": "2021-09-20T10:37:42.360471",
   "version": "2.3.3"
  }
 },
 "nbformat": 4,
 "nbformat_minor": 5
}
